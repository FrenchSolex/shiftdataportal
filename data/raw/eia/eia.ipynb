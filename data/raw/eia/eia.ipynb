{
 "cells": [
  {
   "cell_type": "code",
   "execution_count": null,
   "metadata": {},
   "outputs": [],
   "source": [
    "# https://www.eia.gov/opendata/bulk/manifest.txt\n",
    "# https://www.eia.gov/developer/\n",
    "\n",
    "import requests\n",
    "import json\n",
    "\n",
    "url = 'https://www.eia.gov/opendata/bulk/manifest.txt'\n",
    "response = requests.get(url)\n",
    "data = json.loads(response.text)\n",
    "\n",
    "# Pretty print the JSON data\n",
    "print(json.dumps(data, indent=4))"
   ]
  },
  {
   "cell_type": "code",
   "execution_count": null,
   "metadata": {},
   "outputs": [],
   "source": [
    "import pandas as pd\n",
    "\n",
    "# Load the JSON data into a Pandas DataFrame\n",
    "df = pd.DataFrame.from_dict(data['dataset'], orient='index')\n",
    "\n",
    "# Focus on international data\n",
    "df = df[df['name'].str.contains('international', case=False)]\n",
    "# Convert the 'date' column to datetime format\n",
    "df['last_updated'] = pd.to_datetime(df['last_updated']).dt.strftime('%Y-%m-%d')\n",
    "\n",
    "\n",
    "for _, row in df.iterrows():\n",
    "    print(list(row))\n",
    "\n",
    "df"
   ]
  },
  {
   "cell_type": "code",
   "execution_count": null,
   "metadata": {},
   "outputs": [],
   "source": [
    "# https://api.eia.gov/v2/international/data/?frequency=annual&data[0]=value&facets[activityId][]=34&facets[productId][]=4701&facets[countryRegionId][]=WORL&facets[unit][]=BDOLPPP&sort[0][column]=period&sort[0][direction]=desc&offset=0&length=5000\n",
    "\n",
    "\n",
    "import requests\n",
    "\n",
    "# Set up the API endpoint URL\n",
    "url = \"https://api.eia.gov/v2/international/data/\"\n",
    "\n",
    "# Set up the request parameters\n",
    "params = {\n",
    "    \"api_key\": \"TYUMyndQZkshGBZTAM0tUfslaM1pvIctp1bcK7iV\",\n",
    "    \"offset\": \"0\",\n",
    "    \"frequency\": \"annual\",\n",
    "    \"data[0]\": \"value\"\n",
    "}\n",
    "\n",
    "df_result = pd.DataFrame()\n",
    "\n",
    "for i in range(0, 200, 10):\n",
    "    params['start'] = str(1900+i+1)\n",
    "    params['end'] = str(1900+i+10)\n",
    "    # Send the GET request and print the response url\n",
    "    response = requests.get(url, params=params)\n",
    "    print(response.url)\n",
    "    json_response = json.loads(response.text)['response']\n",
    "    # Pretty print the JSON data\n",
    "    #print(json.dumps(json_data, indent=4))\n",
    "    \n",
    "    if 'warning' in json_response:\n",
    "        print('EXCEEDED 5000 LIMIT')\n",
    "        break\n",
    "\n",
    "    df = pd.json_normalize(json_response['data'])\n",
    "    if (not df.empty):\n",
    "        df_result = pd.concat([df_result, df], ignore_index=True)      \n",
    "\n",
    "# TODO : CLEAN DATA\n",
    "df_result.to_csv('../../processed/eia_api_intl.csv', index=False)\n",
    "\n",
    "df_result.head()"
   ]
  }
 ],
 "metadata": {
  "kernelspec": {
   "display_name": ".venv",
   "language": "python",
   "name": "python3"
  },
  "language_info": {
   "codemirror_mode": {
    "name": "ipython",
    "version": 3
   },
   "file_extension": ".py",
   "mimetype": "text/x-python",
   "name": "python",
   "nbconvert_exporter": "python",
   "pygments_lexer": "ipython3",
   "version": "3.9.2"
  },
  "orig_nbformat": 4
 },
 "nbformat": 4,
 "nbformat_minor": 2
}

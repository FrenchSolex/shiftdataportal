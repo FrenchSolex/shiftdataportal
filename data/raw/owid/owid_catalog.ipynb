{
 "cells": [
  {
   "cell_type": "code",
   "execution_count": null,
   "metadata": {},
   "outputs": [],
   "source": [
    "!pip install owid-catalog"
   ]
  },
  {
   "cell_type": "code",
   "execution_count": null,
   "metadata": {},
   "outputs": [],
   "source": [
    "from owid.catalog import RemoteCatalog\n",
    "# find the default OWID catalog and fetch the catalog index over HTTPS\n",
    "catalog = RemoteCatalog(channels=('garden', 'meadow', 'open_numbers'))"
   ]
  },
  {
   "cell_type": "code",
   "execution_count": null,
   "metadata": {},
   "outputs": [],
   "source": [
    "# All namespaces = main sources\n",
    "catalog.datasets[\"namespace\"].unique()"
   ]
  },
  {
   "cell_type": "code",
   "execution_count": null,
   "metadata": {},
   "outputs": [],
   "source": [
    "# GET LATEST VERSIONS of datasets\n",
    "import pandas as pd\n",
    "import numpy as np\n",
    "from dataclasses import asdict\n",
    "\n",
    "# Get datasets from owid remote catalog\n",
    "datasets = catalog.datasets\n",
    "\n",
    "# Group the data by 'namespace, dataset' and get latest version\n",
    "datasets = datasets.groupby(['namespace', 'dataset'])['version'].max()\n",
    "datasets = datasets.reset_index()\n",
    "\n",
    "# Filter for performance/tests\n",
    "# datasets = datasets[datasets[\"dataset\"].str.contains(\"energy|consumption\")]\n",
    "\n",
    "print(datasets)\n",
    "\n",
    "# Dataframe result including dataset metadata\n",
    "df = pd.DataFrame()\n",
    "\n",
    "for index, row in datasets.iterrows():\n",
    "    try: \n",
    "        print('Getting metadata: index='+ str(index) + ' namespace=' + row.namespace + ', dataset=' + row.dataset)\n",
    "        dataset = catalog.find_latest(namespace=row.namespace, dataset=row.dataset)\n",
    "        df = pd.concat([df, pd.DataFrame([asdict(dataset.metadata.dataset)])], ignore_index=True)\n",
    "    except:\n",
    "        print('ERROR: namespace=' + row.namespace + ', dataset=' + row.dataset)\n",
    "\n",
    "# Explode sources\n",
    "df = df.explode([\"sources\"])\n",
    "# df = df.explode([\"licenses\"])\n",
    "df = df.reset_index()\n",
    "\n",
    "# Extract the dictionary values into new DataFrame columns using apply and lambda function\n",
    "df = pd.concat([df.drop(columns='sources'), df['sources'].apply(pd.Series)], axis=1)\n",
    "# df = pd.concat([df.drop(columns='licenses'), df['licenses'].apply(pd.Series)], axis=1)\n",
    "\n",
    "df.to_csv('../../processed/owid_catalog.csv', index=False)\n",
    "df\n"
   ]
  },
  {
   "cell_type": "code",
   "execution_count": null,
   "metadata": {},
   "outputs": [],
   "source": [
    "# Population\n",
    "df_pop = df[df[\"dataset\"].str.contains(\"population\")]\n",
    "df_pop\n",
    "\n",
    "data_pop = catalog.find_latest(namespace='gapminder', dataset='population')\n",
    "data_pop\n"
   ]
  },
  {
   "cell_type": "code",
   "execution_count": null,
   "metadata": {},
   "outputs": [],
   "source": [
    "\n",
    "# GH CO2 Emmissions filter\n",
    "df_gh = df[df[\"dataset\"].str.contains(\"gh|green|house|carbon|co2|emission\")]\n",
    "df_gh\n"
   ]
  },
  {
   "cell_type": "code",
   "execution_count": null,
   "metadata": {},
   "outputs": [],
   "source": [
    "# NRJ filter\n",
    "df_nrj = df[df[\"dataset\"].str.contains(\"energy|consumption|final\")]\n",
    "df_nrj\n"
   ]
  },
  {
   "cell_type": "code",
   "execution_count": null,
   "metadata": {},
   "outputs": [],
   "source": [
    "#  !!!! FROM SHIFT DATA PORTAL (UP TO 2016)\n",
    "sdp = catalog.find_latest(namespace='shift')\n",
    "print(sdp.metadata.dataset)\n",
    "sdp.sort_values('year', ascending=False).head()\n"
   ]
  },
  {
   "cell_type": "code",
   "execution_count": null,
   "metadata": {},
   "outputs": [],
   "source": [
    "# DEFAULT LATEST EIA\n",
    "\n",
    "df = catalog.find_latest(namespace='eia', dataset='energy_consumption')\n",
    "print(df.metadata.dataset)\n",
    "df"
   ]
  },
  {
   "cell_type": "code",
   "execution_count": null,
   "metadata": {},
   "outputs": [],
   "source": [
    "# DEFAULT LATEST BP\n",
    "\n",
    "df = catalog.find_latest(namespace='bp', dataset='energy_mix')\n",
    "print(df.metadata.dataset)\n",
    "df"
   ]
  }
 ],
 "metadata": {
  "kernelspec": {
   "display_name": ".venv",
   "language": "python",
   "name": "python3"
  },
  "language_info": {
   "codemirror_mode": {
    "name": "ipython",
    "version": 3
   },
   "file_extension": ".py",
   "mimetype": "text/x-python",
   "name": "python",
   "nbconvert_exporter": "python",
   "pygments_lexer": "ipython3",
   "version": "3.9.2"
  },
  "orig_nbformat": 4
 },
 "nbformat": 4,
 "nbformat_minor": 2
}

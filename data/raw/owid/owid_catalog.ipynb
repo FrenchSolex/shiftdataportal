{
 "cells": [
  {
   "cell_type": "code",
   "execution_count": null,
   "metadata": {},
   "outputs": [],
   "source": [
    "!pip install owid-catalog"
   ]
  },
  {
   "cell_type": "code",
   "execution_count": null,
   "metadata": {},
   "outputs": [],
   "source": [
    "from owid.catalog import RemoteCatalog\n",
    "# find the default OWID catalog and fetch the catalog index over HTTPS\n",
    "catalog = RemoteCatalog(channels=('garden', 'meadow', 'open_numbers'))\n",
    "catalog."
   ]
  },
  {
   "cell_type": "code",
   "execution_count": null,
   "metadata": {},
   "outputs": [],
   "source": [
    "# All namespaces = main sources\n",
    "catalog.datasets[\"namespace\"].unique()"
   ]
  },
  {
   "cell_type": "code",
   "execution_count": null,
   "metadata": {},
   "outputs": [],
   "source": [
    "\n",
    "# GET LATEST VERSIONS of datasets\n",
    "import pandas as pd\n",
    "import numpy as np\n",
    "\n",
    "df = catalog.datasets\n",
    "\n",
    "# Group the data by 'namespace, dataset' and get latest version\n",
    "df = df.groupby(['namespace', 'dataset'])['version'].max()\n",
    "\n",
    "df = df.reset_index()\n",
    "df\n"
   ]
  },
  {
   "attachments": {},
   "cell_type": "markdown",
   "metadata": {},
   "source": [
    "Population"
   ]
  },
  {
   "cell_type": "code",
   "execution_count": null,
   "metadata": {},
   "outputs": [],
   "source": [
    "# Population\n",
    "df_pop = df[df[\"dataset\"].str.contains(\"population\")]\n",
    "df_pop\n",
    "\n",
    "data_pop = catalog.find_latest(namespace='gapminder', dataset='population')\n",
    "data_pop\n"
   ]
  },
  {
   "cell_type": "code",
   "execution_count": null,
   "metadata": {},
   "outputs": [],
   "source": [
    "\n",
    "# GH Emmissions filter\n",
    "df_gh = df[df[\"dataset\"].str.contains(\"gh|green|house|carbon|co2|emission\")]\n",
    "df_gh\n"
   ]
  },
  {
   "cell_type": "code",
   "execution_count": null,
   "metadata": {},
   "outputs": [],
   "source": []
  },
  {
   "cell_type": "code",
   "execution_count": null,
   "metadata": {},
   "outputs": [],
   "source": [
    "# NRJ filter\n",
    "df_nrj = df[df[\"dataset\"].str.contains(\"nrj|energy|consumption|final\")]\n",
    "df_nrj\n"
   ]
  },
  {
   "cell_type": "code",
   "execution_count": null,
   "metadata": {},
   "outputs": [],
   "source": [
    "#  !!!! FROM SHIFT DATA PORTAL (UP TO 2016)\n",
    "sdp = catalog.find_latest(namespace='shift')\n",
    "print(dataset.metadata.dataset)\n",
    "dataset.sort_values('year', ascending=False).head()"
   ]
  },
  {
   "cell_type": "code",
   "execution_count": null,
   "metadata": {},
   "outputs": [],
   "source": [
    "# DEFAULT LATEST EIA\n",
    "\n",
    "df = catalog.find_latest(namespace='eia', dataset='energy_consumption')\n",
    "print(df.metadata.dataset)\n",
    "df"
   ]
  }
 ],
 "metadata": {
  "kernelspec": {
   "display_name": ".venv",
   "language": "python",
   "name": "python3"
  },
  "language_info": {
   "codemirror_mode": {
    "name": "ipython",
    "version": 3
   },
   "file_extension": ".py",
   "mimetype": "text/x-python",
   "name": "python",
   "nbconvert_exporter": "python",
   "pygments_lexer": "ipython3",
   "version": "3.9.2"
  },
  "orig_nbformat": 4
 },
 "nbformat": 4,
 "nbformat_minor": 2
}

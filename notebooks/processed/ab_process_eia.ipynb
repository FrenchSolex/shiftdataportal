{
 "cells": [
  {
   "cell_type": "code",
   "execution_count": 91,
   "metadata": {},
   "outputs": [],
   "source": [
    "import pandas as pd"
   ]
  },
  {
   "attachments": {},
   "cell_type": "markdown",
   "metadata": {},
   "source": [
    "## Creation of the EIA dataframe"
   ]
  },
  {
   "cell_type": "code",
   "execution_count": 98,
   "metadata": {},
   "outputs": [],
   "source": [
    "path = \"../../data/_raw/eia/eia_api_intl_2020_2021.csv\"\n",
    "df_eia = pd.read_csv(path)\n",
    "\n",
    "\n",
    "\n",
    "#add the name of the source\n",
    "df_eia[\"data_source\"] = \"eia\"\n",
    "\n",
    "#column selection\n",
    "df_eia = df_eia[[\"data_source\", \"period\", \"productName\", \"activityName\", \"countryRegionId\", \"countryRegionName\", \"unitName\", \"value\", \"unit\"]]\n",
    "\n",
    "#delete duplicates\n",
    "\"\"\"\n",
    "Duplicates have been found:\n",
    "    - different idProduct for identical rows\n",
    "    - 1 duplicate for USA, 2020, Coal Prod with values that are almost exactly the same\n",
    "    - same data but different units\n",
    "\"\"\"\n",
    "df_eia = df_eia.drop_duplicates([\"period\", \"productName\", \"activityName\", \"countryRegionId\"])\n",
    "\n",
    "#colums renaming\n",
    "df_eia.rename(columns={\n",
    "    'period': 'year',\n",
    "    'productName': 'product_name',\n",
    "    'activityName': 'activity_name',\n",
    "    'countryRegionId': 'country_iso3',\n",
    "    'countryRegionName': 'country_name',\n",
    "    'unitName': 'unit_name'\n",
    "}, inplace=True)"
   ]
  },
  {
   "attachments": {},
   "cell_type": "markdown",
   "metadata": {},
   "source": [
    "## Creation of the Coal dataframe"
   ]
  },
  {
   "cell_type": "code",
   "execution_count": 111,
   "metadata": {},
   "outputs": [],
   "source": [
    "#Coal dataframe creation\n",
    "df_eia_coal = df_eia[\n",
    "    df_eia[\"product_name\"]=='Coal'\n",
    "    ]\n",
    "\n",
    "# currently, the SDP does not have \"Reserves\" indicator for Coal. Reserves indicator is present in this dataset, but only in MST unit\n",
    "# for now, we'll delete \"Reserves\" indicator to update SDP with the same scope of values.\n",
    "df_eia_coal = df_eia_coal[df_eia_coal[\"activity_name\"] != \"Reserves\"]\n",
    "\n"
   ]
  },
  {
   "attachments": {},
   "cell_type": "markdown",
   "metadata": {},
   "source": [
    "## Conversion of energy units into Mtoe"
   ]
  },
  {
   "cell_type": "code",
   "execution_count": 112,
   "metadata": {},
   "outputs": [],
   "source": [
    "#creation of energy unit conversion dataframe\n",
    "data = {\n",
    "    'unit' : [\"MTOE\", \"MT\", 'QBTU', \"TJ\", \"TST\"],\n",
    "    'to_Mtoe_divider' : [1, 1568.08988833186, 0.0396832072107753, 41868.0000184606, 1728.52322045437]\n",
    "}\n",
    "df_conversion = pd.DataFrame(data)\n",
    "\n",
    "#clean value column\n",
    "values_to_replace = [\"--\", \"ie\"]\n",
    "df_eia_coal[\"value\"] = df_eia_coal[\"value\"].replace(values_to_replace, 0)\n",
    "\n",
    "#conversion of value into float data type\n",
    "df_eia_coal[\"value\"] = df_eia_coal[\"value\"].astype(float)\n",
    "\n",
    "#conversion of all units in Mtoe\n",
    "#left join with df_conversion dataframe \n",
    "df = df_eia_coal.merge(df_conversion, left_on=\"unit\", right_on=\"unit\", how=\"left\")\n",
    "df[\"value_MTOE\"] = df[\"value\"] / df[\"to_Mtoe_divider\"]\n",
    "df_eia_coal = df.drop([\"value\", \"to_Mtoe_divider\", 'unit', 'unit_name'], axis=1)\n",
    "\n",
    "\n",
    "#df_eia_coal.head()"
   ]
  },
  {
   "attachments": {},
   "cell_type": "markdown",
   "metadata": {},
   "source": [
    "## Pivot activity_name columns"
   ]
  },
  {
   "cell_type": "code",
   "execution_count": 120,
   "metadata": {},
   "outputs": [
    {
     "data": {
      "text/plain": [
       "Index(['index', 'data_source', 'year', 'product_name', 'country_iso3',\n",
       "       'country_name', 'consumption_Mtoe', 'export_Mtoe', 'import_Mtoe',\n",
       "       'production_Mtoe'],\n",
       "      dtype='object', name='activity_name')"
      ]
     },
     "execution_count": 120,
     "metadata": {},
     "output_type": "execute_result"
    }
   ],
   "source": [
    "#pivot activity_name columns to fit data structure\n",
    "pivot_df = pd.pivot_table(df_eia_coal, values= 'value_MTOE', index=['data_source', 'year', 'product_name', 'country_iso3', 'country_name'], columns='activity_name', fill_value=0)\n",
    "\n",
    "# reinitialize indexes\n",
    "pivot_df = pivot_df.reset_index()\n",
    "# Définir le nom de l'index des lignes sur None\n",
    "#pivot_df = pivot_df.rename(index={'activity_name': None})\n",
    "\n",
    "#colums renaming\n",
    "pivot_df.rename(columns={\n",
    "    'Consumption': 'consumption_Mtoe',\n",
    "    'Exports': 'export_Mtoe',\n",
    "    'Imports': 'import_Mtoe',\n",
    "    'Production': 'production_Mtoe'\n",
    "}, inplace=True)\n",
    "\n",
    "pivot_df = pivot_df.reset_index()\n",
    "pivot_df.columns\n",
    "#pivot_df.head()"
   ]
  },
  {
   "cell_type": "code",
   "execution_count": 82,
   "metadata": {},
   "outputs": [],
   "source": [
    "#len(df_eia_coal[\"value\"])\n",
    "#df_eia_coal[\"value\"].shape\n",
    "\n",
    "df_eia_coal = df_eia_coal.reset_index(drop=True)"
   ]
  },
  {
   "cell_type": "code",
   "execution_count": 72,
   "metadata": {},
   "outputs": [
    {
     "data": {
      "text/plain": [
       "unit\n",
       "MST     457\n",
       "QBTU    426\n",
       "MT      392\n",
       "MTOE    390\n",
       "TST     390\n",
       "TJ      389\n",
       "Name: data_source, dtype: int64"
      ]
     },
     "execution_count": 72,
     "metadata": {},
     "output_type": "execute_result"
    }
   ],
   "source": [
    "#df_eia_coal.groupby([\"country_iso3\", \"year\", \"activity_name\", \"unit\"])[\"data_source\"].count().sort_values(ascending=False)\n",
    "\n",
    "df_eia_coal.groupby([\"unit\"])[\"data_source\"].count().sort_values(ascending=False)"
   ]
  },
  {
   "cell_type": "code",
   "execution_count": 68,
   "metadata": {},
   "outputs": [
    {
     "data": {
      "text/html": [
       "<div>\n",
       "<style scoped>\n",
       "    .dataframe tbody tr th:only-of-type {\n",
       "        vertical-align: middle;\n",
       "    }\n",
       "\n",
       "    .dataframe tbody tr th {\n",
       "        vertical-align: top;\n",
       "    }\n",
       "\n",
       "    .dataframe thead th {\n",
       "        text-align: right;\n",
       "    }\n",
       "</style>\n",
       "<table border=\"1\" class=\"dataframe\">\n",
       "  <thead>\n",
       "    <tr style=\"text-align: right;\">\n",
       "      <th></th>\n",
       "      <th>data_source</th>\n",
       "      <th>year</th>\n",
       "      <th>product_name</th>\n",
       "      <th>activity_name</th>\n",
       "      <th>country_iso3</th>\n",
       "      <th>country_name</th>\n",
       "      <th>unit_name</th>\n",
       "      <th>value</th>\n",
       "      <th>unit</th>\n",
       "    </tr>\n",
       "  </thead>\n",
       "  <tbody>\n",
       "    <tr>\n",
       "      <th>31202</th>\n",
       "      <td>eia</td>\n",
       "      <td>2020</td>\n",
       "      <td>Coal</td>\n",
       "      <td>Consumption</td>\n",
       "      <td>USA</td>\n",
       "      <td>United States</td>\n",
       "      <td>quadrillion Btu</td>\n",
       "      <td>9.18110900000002</td>\n",
       "      <td>QBTU</td>\n",
       "    </tr>\n",
       "    <tr>\n",
       "      <th>33149</th>\n",
       "      <td>eia</td>\n",
       "      <td>2020</td>\n",
       "      <td>Coal</td>\n",
       "      <td>Consumption</td>\n",
       "      <td>USA</td>\n",
       "      <td>United States</td>\n",
       "      <td>quadrillion Btu</td>\n",
       "      <td>9.181109147</td>\n",
       "      <td>QBTU</td>\n",
       "    </tr>\n",
       "  </tbody>\n",
       "</table>\n",
       "</div>"
      ],
      "text/plain": [
       "      data_source  year product_name activity_name country_iso3  \\\n",
       "31202         eia  2020         Coal   Consumption          USA   \n",
       "33149         eia  2020         Coal   Consumption          USA   \n",
       "\n",
       "        country_name        unit_name             value  unit  \n",
       "31202  United States  quadrillion Btu  9.18110900000002  QBTU  \n",
       "33149  United States  quadrillion Btu       9.181109147  QBTU  "
      ]
     },
     "execution_count": 68,
     "metadata": {},
     "output_type": "execute_result"
    }
   ],
   "source": [
    "df_eia_coal[\n",
    "    (df_eia_coal[\"country_iso3\"]==\"USA\") &\n",
    "    (df_eia_coal[\"year\"]==2020) &\n",
    "    (df_eia_coal[\"activity_name\"]==\"Consumption\") &\n",
    "    (df_eia_coal[\"unit\"]==\"QBTU\")\n",
    "]"
   ]
  },
  {
   "cell_type": "code",
   "execution_count": null,
   "metadata": {},
   "outputs": [],
   "source": []
  }
 ],
 "metadata": {
  "kernelspec": {
   "display_name": ".venv",
   "language": "python",
   "name": "python3"
  },
  "language_info": {
   "codemirror_mode": {
    "name": "ipython",
    "version": 3
   },
   "file_extension": ".py",
   "mimetype": "text/x-python",
   "name": "python",
   "nbconvert_exporter": "python",
   "pygments_lexer": "ipython3",
   "version": "3.11.3"
  },
  "orig_nbformat": 4
 },
 "nbformat": 4,
 "nbformat_minor": 2
}
